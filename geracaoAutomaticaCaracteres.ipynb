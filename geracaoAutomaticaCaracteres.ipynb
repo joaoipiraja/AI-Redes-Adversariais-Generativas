{
  "nbformat": 4,
  "nbformat_minor": 0,
  "metadata": {
    "colab": {
      "name": "geracaoAutomaticaCaracteres.ipynb",
      "provenance": [],
      "authorship_tag": "ABX9TyOHgsMJ+X/ResdZzpPAqIEK"
    },
    "kernelspec": {
      "name": "python3",
      "display_name": "Python 3"
    }
  },
  "cells": [
    {
      "cell_type": "code",
      "metadata": {
        "id": "JGtEKcXmnC8a"
      },
      "source": [
        "!pip install git+https://github.com/bstriner/keras-adversarial.git"
      ],
      "execution_count": null,
      "outputs": []
    },
    {
      "cell_type": "code",
      "metadata": {
        "id": "hxfK7JC2n-fT"
      },
      "source": [
        "!pip install Keras==2.1.1"
      ],
      "execution_count": null,
      "outputs": []
    },
    {
      "cell_type": "code",
      "metadata": {
        "id": "xuhmI-rGnR45"
      },
      "source": [
        "!pip install tensorflow==1.13.1"
      ],
      "execution_count": null,
      "outputs": []
    },
    {
      "cell_type": "code",
      "metadata": {
        "id": "mI_fzoU7nb4e"
      },
      "source": [
        "import matplotlib.pyplot as plt\n",
        "import numpy as np\n",
        "from keras.datasets import mnist\n",
        "from keras.models import Sequential\n",
        "from keras.layers import InputLayer, Dense, Flatten, Reshape\n",
        "from keras.regularizers import L1L2\n",
        "from keras_adversarial import AdversarialModel,simple_gan,gan_targets\n",
        "from keras_adversarial import AdversarialOptimizerSimultaneous, normal_latent_sampling"
      ],
      "execution_count": null,
      "outputs": []
    },
    {
      "cell_type": "code",
      "metadata": {
        "id": "aFpBVdODnogM"
      },
      "source": [
        "(previsores_treinamento,_),(_,_) = mnist.load_data()\n",
        "previsores_treinamento = previsores_treinamento.astype(\"float32\")/255"
      ],
      "execution_count": null,
      "outputs": []
    },
    {
      "cell_type": "code",
      "metadata": {
        "id": "6CO9TGwu3ek9"
      },
      "source": [
        "previsores_treinamento.shape"
      ],
      "execution_count": null,
      "outputs": []
    },
    {
      "cell_type": "code",
      "metadata": {
        "id": "WeBjqtGRnsgK"
      },
      "source": [
        "gerador = Sequential()\n",
        "gerador.add(Dense(units=500, input_dim=100,activation= 'relu', kernel_regularizer=L1L2(1e-5,1e-5)))\n",
        "gerador.add(Dense(units=500, input_dim=100,activation= 'relu', kernel_regularizer=L1L2(1e-5,1e-5)))\n",
        "gerador.add(Dense(units=784,activation= 'relu', kernel_regularizer=L1L2(1e-5,1e-5))) #28x 28 = 784\n",
        "gerador.add(Reshape((28,28)))"
      ],
      "execution_count": null,
      "outputs": []
    },
    {
      "cell_type": "code",
      "metadata": {
        "id": "MXGIDGxynuJP"
      },
      "source": [
        "discriminador = Sequential()\n",
        "discriminador.add(InputLayer(input_shape=(28,28)))\n",
        "discriminador.add(Flatten())\n",
        "discriminador.add(Dense(units=500, activation='relu', kernel_regularizer=L1L2(1e-5,1e-5)))\n",
        "discriminador.add(Dense(units=500, activation='relu', kernel_regularizer=L1L2(1e-5,1e-5)))\n",
        "discriminador.add(Dense(units=1, activation='sigmoid', kernel_regularizer=L1L2(1e-5,1e-5)))"
      ],
      "execution_count": null,
      "outputs": []
    },
    {
      "cell_type": "code",
      "metadata": {
        "id": "jpQDelQ7nv4X"
      },
      "source": [
        "gan = simple_gan(gerador,discriminador, normal_latent_sampling((100,)))"
      ],
      "execution_count": 10,
      "outputs": []
    },
    {
      "cell_type": "code",
      "metadata": {
        "id": "isl-uZ-jnxs-"
      },
      "source": [
        "modelo = AdversarialModel(base_model = gan, player_params = [gerador.trainable_weights,discriminador.trainable_weights])"
      ],
      "execution_count": 11,
      "outputs": []
    },
    {
      "cell_type": "code",
      "metadata": {
        "id": "sedpulQ5nzQc"
      },
      "source": [
        "modelo.adversarial_compile(adversarial_optimizer=AdversarialOptimizerSimultaneous(), player_optimizers=['adam', 'adam'], loss = 'binary_crossentropy')"
      ],
      "execution_count": 12,
      "outputs": []
    },
    {
      "cell_type": "code",
      "metadata": {
        "id": "DkT7gAbSn1j-"
      },
      "source": [
        "modelo.fit(x=previsores_treinamento,y=gan_targets(60000), epochs= 1000, batch_size = 256)"
      ],
      "execution_count": null,
      "outputs": []
    },
    {
      "cell_type": "code",
      "metadata": {
        "id": "_7keQZIj0y3l"
      },
      "source": [
        "amostras = np.random.normal(size=(10,100))\n",
        "previsao = gerador.predict(amostras)\n",
        "for i in range(previsao.shape[0]):\n",
        "    plt.imshow(previsao[i,:], cmap='gray')\n",
        "    plt.show()"
      ],
      "execution_count": null,
      "outputs": []
    }
  ]
}